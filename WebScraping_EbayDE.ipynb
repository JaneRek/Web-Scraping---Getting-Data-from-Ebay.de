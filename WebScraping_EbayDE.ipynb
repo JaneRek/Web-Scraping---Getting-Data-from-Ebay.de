{
 "cells": [
  {
   "cell_type": "code",
   "execution_count": 5,
   "id": "6b74efe7",
   "metadata": {},
   "outputs": [
    {
     "name": "stdout",
     "output_type": "stream",
     "text": [
      "Enter your search word:lego\n"
     ]
    },
    {
     "name": "stderr",
     "output_type": "stream",
     "text": [
      "  0%|                                                                                            | 0/5 [00:00<?, ?it/s]\n",
      "  0%|                                                                                           | 0/61 [00:00<?, ?it/s]\u001b[A\n",
      " 33%|██████████████████████████▌                                                      | 20/61 [00:00<00:00, 161.67it/s]\u001b[A\n",
      "100%|█████████████████████████████████████████████████████████████████████████████████| 61/61 [00:00<00:00, 231.65it/s]\u001b[A\n",
      " 20%|████████████████▊                                                                   | 1/5 [00:01<00:07,  1.90s/it]\n",
      "  0%|                                                                                           | 0/61 [00:00<?, ?it/s]\u001b[A\n",
      " 49%|███████████████████████████████████████▊                                         | 30/61 [00:00<00:00, 294.91it/s]\u001b[A\n",
      "100%|█████████████████████████████████████████████████████████████████████████████████| 61/61 [00:00<00:00, 284.46it/s]\u001b[A\n",
      " 40%|█████████████████████████████████▌                                                  | 2/5 [00:03<00:05,  2.00s/it]\n",
      "  0%|                                                                                           | 0/61 [00:00<?, ?it/s]\u001b[A\n",
      " 49%|███████████████████████████████████████▊                                         | 30/61 [00:00<00:00, 288.95it/s]\u001b[A\n",
      "100%|█████████████████████████████████████████████████████████████████████████████████| 61/61 [00:00<00:00, 277.62it/s]\u001b[A\n",
      " 60%|██████████████████████████████████████████████████▍                                 | 3/5 [00:06<00:04,  2.12s/it]\n",
      "  0%|                                                                                           | 0/61 [00:00<?, ?it/s]\u001b[A\n",
      " 49%|███████████████████████████████████████▊                                         | 30/61 [00:00<00:00, 292.00it/s]\u001b[A\n",
      "100%|█████████████████████████████████████████████████████████████████████████████████| 61/61 [00:00<00:00, 289.18it/s]\u001b[A\n",
      " 80%|███████████████████████████████████████████████████████████████████▏                | 4/5 [00:08<00:02,  2.05s/it]\n",
      "  0%|                                                                                           | 0/61 [00:00<?, ?it/s]\u001b[A\n",
      " 48%|██████████████████████████████████████▌                                          | 29/61 [00:00<00:00, 287.80it/s]\u001b[A\n",
      "100%|█████████████████████████████████████████████████████████████████████████████████| 61/61 [00:00<00:00, 275.42it/s]\u001b[A\n",
      "100%|████████████████████████████████████████████████████████████████████████████████████| 5/5 [00:09<00:00,  1.99s/it]\n"
     ]
    },
    {
     "name": "stdout",
     "output_type": "stream",
     "text": [
      "Finished successfully\n"
     ]
    }
   ],
   "source": [
    "#WebScraping using HTMLSession function from \"Requests\" library\n",
    "#tqdm library is used for creating progress bars\n",
    "\n",
    "from requests_html import HTMLSession\n",
    "from tqdm import tqdm\n",
    "import pandas as pd\n",
    "\n",
    "s = HTMLSession()\n",
    "\n",
    "keyword = input('Enter your search word:')\n",
    "\n",
    "data = []\n",
    "urls = ['https://www.ebay.de/sch/i.html?_from=R40&_nkw={}&_sacat=0&_pgn={}'.format(keyword,x) for x in range(1,6)]\n",
    "for url in tqdm(urls):\n",
    "\n",
    "    r = s.get(url.strip())\n",
    "    content = r.html.find('div.s-item__info.clearfix')\n",
    "\n",
    "   \n",
    "    for items in tqdm(content):\n",
    "        try:\n",
    "            title = items.find('div.s-item__title', first = True).text\n",
    "        except: \n",
    "            title = ''  \n",
    "        subtitle = items.find('div.s-item__subtitle span', first = True).text\n",
    "        price = items.find('span.s-item__price', first = True).text\n",
    "        try:\n",
    "            discountprice = items.find('span.s-item__discount', first = True).text\n",
    "        except: \n",
    "            discountprice = ''\n",
    "        try:\n",
    "            shippingprice = items.find('span.s-item__shipping.s-item__logisticsCost', first = True).text\n",
    "        except: \n",
    "            shippingprice = ''\n",
    "        try:\n",
    "            shippingfrom = items.find('span.s-item__location.s-item__itemLocation', first = True).text.replace('aus ','')\n",
    "        except: \n",
    "            shippingfrom = ''\n",
    "\n",
    "            url_item = items.find('a.s-item__link', first = True).attrs['href']\n",
    "    \n",
    "        data.append([title,subtitle,price,discountprice,shippingprice,shippingfrom,url_item])\n",
    "        \n",
    "df = pd.DataFrame(data,columns=['Title','Subtitle','Price','Discount Price','Shipping Price','Shipping From','Link'])\n",
    "df.to_excel(\"result.xlsx\", index=True)\n",
    "print('Finished successfully')"
   ]
  },
  {
   "cell_type": "code",
   "execution_count": null,
   "id": "27d7fa06",
   "metadata": {},
   "outputs": [],
   "source": []
  }
 ],
 "metadata": {
  "kernelspec": {
   "display_name": "Python 3 (ipykernel)",
   "language": "python",
   "name": "python3"
  },
  "language_info": {
   "codemirror_mode": {
    "name": "ipython",
    "version": 3
   },
   "file_extension": ".py",
   "mimetype": "text/x-python",
   "name": "python",
   "nbconvert_exporter": "python",
   "pygments_lexer": "ipython3",
   "version": "3.9.13"
  }
 },
 "nbformat": 4,
 "nbformat_minor": 5
}
